{
  "cells": [
    {
      "cell_type": "markdown",
      "metadata": {
        "id": "view-in-github",
        "colab_type": "text"
      },
      "source": [
        "<a href=\"https://colab.research.google.com/github/educbd/ML_/blob/main/Lab_3_Part_1_NOED.ipynb\" target=\"_parent\"><img src=\"https://colab.research.google.com/assets/colab-badge.svg\" alt=\"Open In Colab\"/></a>"
      ]
    },
    {
      "cell_type": "markdown",
      "source": [
        "# Lab 3 Part 1: Convolutions in Keras\n",
        "The code below will allow you to play with a single convolutional layer in Keras. Take a look at the documentation for the Conv2D layer, which is also where the original code came from."
      ],
      "metadata": {
        "id": "TR2CPIZ9tNDE"
      },
      "id": "TR2CPIZ9tNDE"
    },
    {
      "cell_type": "markdown",
      "source": [
        "---\n",
        "\n",
        "## **Group Number: 08**\n",
        "\n",
        "Name  | Student ID\n",
        "-------------------|------------------\n",
        "Noushin Asadsamani      | 0829532\n",
        "Eduardo Chavez Barrientos      | 0828349\n",
        "\n",
        "\n",
        "---"
      ],
      "metadata": {
        "id": "Y4JqCp9fXnSG"
      },
      "id": "Y4JqCp9fXnSG"
    },
    {
      "cell_type": "code",
      "source": [
        "from google.colab import drive\n",
        "drive.mount('/content/drive')"
      ],
      "metadata": {
        "colab": {
          "base_uri": "https://localhost:8080/"
        },
        "id": "_ppEhKpqDbbC",
        "outputId": "072567a6-5b6c-4c4a-8289-2f9c706f2072"
      },
      "id": "_ppEhKpqDbbC",
      "execution_count": 1,
      "outputs": [
        {
          "output_type": "stream",
          "name": "stdout",
          "text": [
            "Mounted at /content/drive\n"
          ]
        }
      ]
    },
    {
      "cell_type": "code",
      "source": [
        "import tensorflow as tf\n",
        "from tensorflow.keras.layers import Conv2D"
      ],
      "metadata": {
        "id": "wO83RrBkuB0F"
      },
      "id": "wO83RrBkuB0F",
      "execution_count": 2,
      "outputs": []
    },
    {
      "cell_type": "code",
      "source": [
        "input_shape = (4, 28, 28, 3)\n",
        "\n",
        "x = tf.random.normal(input_shape)\n",
        "\n",
        "y = Conv2D(filters=2,\n",
        "           kernel_size=(3, 3),\n",
        "           strides=1,\n",
        "           padding='valid',\n",
        "           input_shape=(None, 28, 28, 3))(x)\n",
        "y.shape"
      ],
      "metadata": {
        "colab": {
          "base_uri": "https://localhost:8080/"
        },
        "id": "VyXPGKnPuKWc",
        "outputId": "d16cce70-c655-4b66-f2d3-cf640308f8dd"
      },
      "id": "VyXPGKnPuKWc",
      "execution_count": 3,
      "outputs": [
        {
          "output_type": "execute_result",
          "data": {
            "text/plain": [
              "TensorShape([4, 26, 26, 2])"
            ]
          },
          "metadata": {},
          "execution_count": 3
        }
      ]
    },
    {
      "cell_type": "markdown",
      "source": [
        "Here is a brief explanation of the above code:\n",
        "![An image](https://raw.githubusercontent.com/educbd/ML_/main/Convolution_notebook-2.jpg)\n",
        "\n"
      ],
      "metadata": {
        "id": "K1ciM03Ct9A2"
      },
      "id": "K1ciM03Ct9A2"
    },
    {
      "cell_type": "markdown",
      "source": [
        "# Exercises\n",
        "In the code above, make changes to:\n",
        "\n",
        "```\n",
        "1. input  ℎ\n",
        "2. input  𝑤\n",
        "3. input  𝑛𝑐\n",
        "4. number of filters\n",
        "5. kernel size (same as filter size)\n",
        "\n",
        "```\n",
        "\n",
        "\n",
        "For each change, calculate the dimensions of the output (y.shape) by hand, including drawing a diagram (as shown below).\n",
        "![An image](https://raw.githubusercontent.com/educbd/ML_/main/Convolution_notebook-1.jpg)\n"
      ],
      "metadata": {
        "id": "JMlk6aIouaIF"
      },
      "id": "JMlk6aIouaIF"
    },
    {
      "cell_type": "markdown",
      "source": [
        "## **1) Changes to input  ℎ**\n",
        "```\n",
        " - ℎ = 12\n",
        "```"
      ],
      "metadata": {
        "id": "lBbIuZ1zMKBw"
      },
      "id": "lBbIuZ1zMKBw"
    },
    {
      "cell_type": "code",
      "source": [
        "input_shape = (4, 12, 28, 3)\n",
        "\n",
        "x = tf.random.normal(input_shape)\n",
        "\n",
        "y = Conv2D(filters=2,\n",
        "           kernel_size=(3, 3),\n",
        "           strides=1,\n",
        "           padding='valid',\n",
        "           input_shape=(None, 12, 28, 3))(x)\n",
        "\n",
        "y.shape"
      ],
      "metadata": {
        "colab": {
          "base_uri": "https://localhost:8080/"
        },
        "id": "2nOkCvyTKSTz",
        "outputId": "23c32277-74ba-4aff-a242-949131dc62de"
      },
      "id": "2nOkCvyTKSTz",
      "execution_count": 4,
      "outputs": [
        {
          "output_type": "execute_result",
          "data": {
            "text/plain": [
              "TensorShape([4, 10, 26, 2])"
            ]
          },
          "metadata": {},
          "execution_count": 4
        }
      ]
    },
    {
      "cell_type": "markdown",
      "source": [
        "![](https://raw.githubusercontent.com/educbd/ML_/main/h.jpg)"
      ],
      "metadata": {
        "id": "k2i-qZzQZpRF"
      },
      "id": "k2i-qZzQZpRF"
    },
    {
      "cell_type": "markdown",
      "source": [
        "## **2) Changes to input  w**\n",
        "```\n",
        " - w = 20\n",
        "```"
      ],
      "metadata": {
        "id": "tDodbkIXbbwH"
      },
      "id": "tDodbkIXbbwH"
    },
    {
      "cell_type": "code",
      "source": [
        "input_shape = (4, 28, 20, 3)\n",
        "\n",
        "x = tf.random.normal(input_shape)\n",
        "\n",
        "y = Conv2D(filters=2,\n",
        "           kernel_size=(3, 3),\n",
        "           strides=1,\n",
        "           padding='valid',\n",
        "           input_shape=(None, 28, 20, 3))(x)\n",
        "y.shape"
      ],
      "metadata": {
        "colab": {
          "base_uri": "https://localhost:8080/"
        },
        "id": "l-CVehfXbkZn",
        "outputId": "052f338f-80ed-44f6-9ddf-47c9543cfc1e"
      },
      "id": "l-CVehfXbkZn",
      "execution_count": 5,
      "outputs": [
        {
          "output_type": "execute_result",
          "data": {
            "text/plain": [
              "TensorShape([4, 26, 18, 2])"
            ]
          },
          "metadata": {},
          "execution_count": 5
        }
      ]
    },
    {
      "cell_type": "markdown",
      "source": [
        "![](https://raw.githubusercontent.com/educbd/ML_/main/w.jpg)"
      ],
      "metadata": {
        "id": "1VKrglwrdYuh"
      },
      "id": "1VKrglwrdYuh"
    },
    {
      "cell_type": "markdown",
      "source": [
        "## **3) Changes to input  nc**\n",
        "```\n",
        " - nc = 5\n",
        "```"
      ],
      "metadata": {
        "id": "yOqREikSdvsA"
      },
      "id": "yOqREikSdvsA"
    },
    {
      "cell_type": "code",
      "source": [
        "input_shape = (4, 28, 28, 5)\n",
        "\n",
        "x = tf.random.normal(input_shape)\n",
        "\n",
        "y = Conv2D(filters=2,\n",
        "           kernel_size=(3, 3),\n",
        "           strides=1,\n",
        "           padding='valid',\n",
        "           input_shape=(None, 28, 28, 5))(x)\n",
        "y.shape"
      ],
      "metadata": {
        "colab": {
          "base_uri": "https://localhost:8080/"
        },
        "id": "vTM7zwTPeBFu",
        "outputId": "0bff4da6-829d-4ea4-dff3-ac70c60a1304"
      },
      "id": "vTM7zwTPeBFu",
      "execution_count": 6,
      "outputs": [
        {
          "output_type": "execute_result",
          "data": {
            "text/plain": [
              "TensorShape([4, 26, 26, 2])"
            ]
          },
          "metadata": {},
          "execution_count": 6
        }
      ]
    },
    {
      "cell_type": "markdown",
      "source": [
        "![](https://raw.githubusercontent.com/educbd/ML_/main/nc.jpg)"
      ],
      "metadata": {
        "id": "bR1VPbuSfkDj"
      },
      "id": "bR1VPbuSfkDj"
    },
    {
      "cell_type": "markdown",
      "source": [
        "## **4) Changes to number of filters**\n",
        "```\n",
        " - filters = 3\n",
        "```"
      ],
      "metadata": {
        "id": "Kuizj58-hEO7"
      },
      "id": "Kuizj58-hEO7"
    },
    {
      "cell_type": "code",
      "source": [
        "input_shape = (4, 28, 28, 3)\n",
        "\n",
        "x = tf.random.normal(input_shape)\n",
        "\n",
        "y = Conv2D(filters=3,\n",
        "           kernel_size=(3, 3),\n",
        "           strides=1,\n",
        "           padding='valid',\n",
        "           input_shape=(None, 28, 28, 3))(x)\n",
        "y.shape"
      ],
      "metadata": {
        "colab": {
          "base_uri": "https://localhost:8080/"
        },
        "id": "F3Pk0k7phUZ7",
        "outputId": "d06df39b-6cb3-45c5-bec7-8688594ad430"
      },
      "id": "F3Pk0k7phUZ7",
      "execution_count": 7,
      "outputs": [
        {
          "output_type": "execute_result",
          "data": {
            "text/plain": [
              "TensorShape([4, 26, 26, 3])"
            ]
          },
          "metadata": {},
          "execution_count": 7
        }
      ]
    },
    {
      "cell_type": "markdown",
      "source": [
        "![](https://raw.githubusercontent.com/educbd/ML_/main/filters.jpg)"
      ],
      "metadata": {
        "id": "OJlybkuVicEh"
      },
      "id": "OJlybkuVicEh"
    },
    {
      "cell_type": "markdown",
      "source": [
        "## **5) Changes to kernel size**\n",
        "```\n",
        " - kernel_size = 4\n",
        "```"
      ],
      "metadata": {
        "id": "eA7eQlTQjevh"
      },
      "id": "eA7eQlTQjevh"
    },
    {
      "cell_type": "code",
      "source": [
        "input_shape = (4, 28, 28, 3)\n",
        "\n",
        "x = tf.random.normal(input_shape)\n",
        "\n",
        "y = Conv2D(filters=2,\n",
        "           kernel_size=(4, 4),\n",
        "           strides=1,\n",
        "           padding='valid',\n",
        "           input_shape=(None, 28, 28, 3))(x)\n",
        "y.shape"
      ],
      "metadata": {
        "colab": {
          "base_uri": "https://localhost:8080/"
        },
        "id": "vu8LPGZnjuxQ",
        "outputId": "61392356-2b06-47f4-ad86-b0289eed28d5"
      },
      "id": "vu8LPGZnjuxQ",
      "execution_count": 8,
      "outputs": [
        {
          "output_type": "execute_result",
          "data": {
            "text/plain": [
              "TensorShape([4, 25, 25, 2])"
            ]
          },
          "metadata": {},
          "execution_count": 8
        }
      ]
    },
    {
      "cell_type": "markdown",
      "source": [
        "![](https://raw.githubusercontent.com/educbd/ML_/main/ker.jpg)"
      ],
      "metadata": {
        "id": "DqLdrwmdloR6"
      },
      "id": "DqLdrwmdloR6"
    },
    {
      "cell_type": "markdown",
      "id": "dac958f2",
      "metadata": {
        "id": "dac958f2"
      },
      "source": [
        "## MNIST Revisited\n",
        "\n",
        "Let's now revisit our MNIST. Knowing that the data contains 2-dimensional images of handwritten digits, we should be able to apply what we've learned about convolutions. Thus, in this section, we will create a convolutional neural network (CNN or convnet) for this data set."
      ]
    },
    {
      "cell_type": "code",
      "execution_count": 9,
      "id": "12e2399a",
      "metadata": {
        "id": "12e2399a",
        "colab": {
          "base_uri": "https://localhost:8080/"
        },
        "outputId": "1b177c0a-7fe9-4876-deb9-a72e06c6ecbe"
      },
      "outputs": [
        {
          "output_type": "stream",
          "name": "stdout",
          "text": [
            "Downloading data from https://storage.googleapis.com/tensorflow/tf-keras-datasets/mnist.npz\n",
            "11490434/11490434 [==============================] - 0s 0us/step\n"
          ]
        }
      ],
      "source": [
        "from tensorflow.keras.datasets import mnist\n",
        "import numpy as np\n",
        "\n",
        "(train_data, train_labels), (test_data, test_labels) = mnist.load_data()"
      ]
    },
    {
      "cell_type": "code",
      "execution_count": 10,
      "id": "a07d1bca",
      "metadata": {
        "id": "a07d1bca",
        "colab": {
          "base_uri": "https://localhost:8080/"
        },
        "outputId": "f88b8f23-9f85-4363-891f-a998472a493e"
      },
      "outputs": [
        {
          "output_type": "execute_result",
          "data": {
            "text/plain": [
              "(28, 28)"
            ]
          },
          "metadata": {},
          "execution_count": 10
        }
      ],
      "source": [
        "train_data[0].shape"
      ]
    },
    {
      "cell_type": "code",
      "execution_count": 11,
      "id": "fd87f235",
      "metadata": {
        "id": "fd87f235",
        "colab": {
          "base_uri": "https://localhost:8080/"
        },
        "outputId": "2947e875-b94b-42b3-d0f9-4ff61b653808"
      },
      "outputs": [
        {
          "output_type": "execute_result",
          "data": {
            "text/plain": [
              "array([5, 0, 4, 1, 9, 2, 1, 3, 1, 4], dtype=uint8)"
            ]
          },
          "metadata": {},
          "execution_count": 11
        }
      ],
      "source": [
        "train_labels[:10]"
      ]
    },
    {
      "cell_type": "markdown",
      "id": "0933573f",
      "metadata": {
        "id": "0933573f"
      },
      "source": [
        "This time we are going to use a **validation set** to monitor our training progress. We can also use this validation set for *hyperparameter tuning*. Remember, using the validation set allows us to keep the *test set* to gauge how well our final model should do in the real world; that is, the final model only sees the test data once."
      ]
    },
    {
      "cell_type": "code",
      "execution_count": 12,
      "id": "c20c7956",
      "metadata": {
        "id": "c20c7956"
      },
      "outputs": [],
      "source": [
        "# Use the first 10,000 samples of our training data as our validation set\n",
        "val_data = train_data[:10000]\n",
        "val_labels = train_labels[:10000]\n",
        "\n",
        "# Use the remainder of the original training data for actual training\n",
        "partial_train_data = train_data[10000:]\n",
        "partial_train_labels = train_labels[10000:]"
      ]
    },
    {
      "cell_type": "code",
      "execution_count": 13,
      "id": "cd053ac2",
      "metadata": {
        "id": "cd053ac2"
      },
      "outputs": [],
      "source": [
        "# Scale the pixel values so they lie in the range of 0-1\n",
        "partial_train_data = partial_train_data / 255.\n",
        "val_data = val_data / 255.\n",
        "test_data = test_data /255."
      ]
    },
    {
      "cell_type": "markdown",
      "id": "7205cd6d",
      "metadata": {
        "id": "7205cd6d"
      },
      "source": [
        "Note that our data currently has 3 dimensions: `(samples, height, width)`."
      ]
    },
    {
      "cell_type": "code",
      "execution_count": 14,
      "id": "9d383bcb",
      "metadata": {
        "id": "9d383bcb",
        "colab": {
          "base_uri": "https://localhost:8080/"
        },
        "outputId": "ef2a117a-1ad3-48f2-c478-2128abffdb54"
      },
      "outputs": [
        {
          "output_type": "stream",
          "name": "stdout",
          "text": [
            "(50000, 28, 28)\n",
            "(10000, 28, 28)\n",
            "(10000, 28, 28)\n"
          ]
        }
      ],
      "source": [
        "print(partial_train_data.shape)\n",
        "print(val_data.shape)\n",
        "print(test_data.shape)"
      ]
    },
    {
      "cell_type": "code",
      "execution_count": 15,
      "id": "9d9a56ac",
      "metadata": {
        "id": "9d9a56ac",
        "colab": {
          "base_uri": "https://localhost:8080/"
        },
        "outputId": "8f114518-fcd4-41f1-f24f-9dbd9affdc7f"
      },
      "outputs": [
        {
          "output_type": "stream",
          "name": "stdout",
          "text": [
            "(50000,)\n",
            "(10000,)\n",
            "(10000,)\n"
          ]
        }
      ],
      "source": [
        "print(partial_train_labels.shape)\n",
        "print(val_labels.shape)\n",
        "print(test_labels.shape)"
      ]
    },
    {
      "cell_type": "markdown",
      "id": "8587a274",
      "metadata": {
        "id": "8587a274"
      },
      "source": [
        "Our convolutional neural network will expect 4-dimensional data: `(batch_size, height, width, channels)`. Note that depending on how you decide to update the parameters of the network, `batch_size` could equal the number of `samples` (as in *batch gradient descent*), or it could equal a single sample (as in *stochastic gradient descent*, or it can equal the batch size (as in *mini-batch gradient descent*).\n",
        "\n",
        "We can use a NumPy function to add this dimension."
      ]
    },
    {
      "cell_type": "code",
      "execution_count": 16,
      "id": "acbea7c1",
      "metadata": {
        "id": "acbea7c1"
      },
      "outputs": [],
      "source": [
        "partial_train_data = np.expand_dims(partial_train_data, axis=3)\n",
        "val_data = np.expand_dims(val_data, axis=3)\n",
        "test_data = np.expand_dims(test_data, axis=3)"
      ]
    },
    {
      "cell_type": "code",
      "execution_count": 17,
      "id": "536f781e",
      "metadata": {
        "id": "536f781e",
        "colab": {
          "base_uri": "https://localhost:8080/"
        },
        "outputId": "0faefa54-267d-4bcf-a926-9bb0af56aaf7"
      },
      "outputs": [
        {
          "output_type": "stream",
          "name": "stdout",
          "text": [
            "(50000, 28, 28, 1)\n",
            "(10000, 28, 28, 1)\n",
            "(10000, 28, 28, 1)\n"
          ]
        }
      ],
      "source": [
        "print(partial_train_data.shape)\n",
        "print(val_data.shape)\n",
        "print(test_data.shape)"
      ]
    },
    {
      "cell_type": "markdown",
      "id": "638d8eeb",
      "metadata": {
        "id": "638d8eeb"
      },
      "source": [
        "Note how a fourth dimension was added to our data. This dimension corresponds to the number of channels in our input data. Here it is 1, since the images are all greyscale. It would be 3 if the images were RGB. Also note, that the convention here is *channels last*, as opposed to *channels first*."
      ]
    },
    {
      "cell_type": "markdown",
      "id": "76d9b7e4",
      "metadata": {
        "id": "76d9b7e4"
      },
      "source": [
        "As in Lab 1, we need to convert our label data to the correct format."
      ]
    },
    {
      "cell_type": "code",
      "execution_count": 18,
      "id": "6f1846a1",
      "metadata": {
        "id": "6f1846a1"
      },
      "outputs": [],
      "source": [
        "from tensorflow.keras.utils import to_categorical\n",
        "\n",
        "partial_train_labels = to_categorical(partial_train_labels)\n",
        "val_labels = to_categorical(val_labels)\n",
        "test_labels = to_categorical(test_labels)"
      ]
    },
    {
      "cell_type": "code",
      "execution_count": 19,
      "id": "c78c4ca3",
      "metadata": {
        "id": "c78c4ca3",
        "colab": {
          "base_uri": "https://localhost:8080/"
        },
        "outputId": "7e4897a7-fdc3-46ea-a0f5-79cc4a74b67d"
      },
      "outputs": [
        {
          "output_type": "stream",
          "name": "stdout",
          "text": [
            "(50000, 10)\n",
            "(10000, 10)\n",
            "(10000, 10)\n"
          ]
        }
      ],
      "source": [
        "print(partial_train_labels.shape)\n",
        "print(val_labels.shape)\n",
        "print(test_labels.shape)"
      ]
    },
    {
      "cell_type": "markdown",
      "id": "da4a79f2",
      "metadata": {
        "id": "da4a79f2"
      },
      "source": [
        "We will now import the necessary modules for building our convolutional neural network. Since we are using Keras's sequential API we need to import the `Sequential` module. The remaining 3 imports will help us build the layers of our CNN. `Conv2D` creates the convolutional layers we have been discussing in the lectures. `Flatten` is used to create a 1 dimensional vector so we can feed the output of our convolutional layers to the fully-connected layers. We used NumPy's `reshape` function to do this flattening in Lab 1. And the `Dense` layer is the same as what we used in Lab 1."
      ]
    },
    {
      "cell_type": "code",
      "execution_count": 20,
      "id": "9f8ac061",
      "metadata": {
        "id": "9f8ac061"
      },
      "outputs": [],
      "source": [
        "from tensorflow.keras.models import Sequential\n",
        "from tensorflow.keras.layers import Conv2D, Flatten, Dense"
      ]
    },
    {
      "cell_type": "markdown",
      "id": "b604145d",
      "metadata": {
        "id": "b604145d"
      },
      "source": [
        "We are going to use a slightly different approach to building our network than we did in Lab 1. Here we will directly add a *list of layers* to the `Sequential()` object. That is, we put all our layers inside square brackets `[...]` and put this inside the `Sequential( [...] )` object to create our model. In Lab 1 we used the `.add()` method to add individual layers to our `Sequential()` object that we initialized without any layers."
      ]
    },
    {
      "cell_type": "code",
      "execution_count": 21,
      "id": "79abd458",
      "metadata": {
        "id": "79abd458"
      },
      "outputs": [],
      "source": [
        "model = Sequential([\n",
        "    Conv2D(filters=32,\n",
        "           kernel_size=(3, 3),\n",
        "           strides=1,\n",
        "           padding='same',\n",
        "           activation='relu',\n",
        "           input_shape=(28, 28, 1)),\n",
        "    Conv2D(filters=32,\n",
        "           kernel_size=(3, 3),\n",
        "           strides=2,\n",
        "           padding='valid',\n",
        "           activation='relu'),\n",
        "    Conv2D(filters=64,\n",
        "           kernel_size=(3, 3),\n",
        "           strides=1,\n",
        "           padding='same',\n",
        "          activation='relu'),\n",
        "    Conv2D(filters=64,\n",
        "           kernel_size=(3, 3),\n",
        "           strides=1,\n",
        "           padding='valid',\n",
        "           activation='relu'),\n",
        "    Flatten(),\n",
        "    Dense(128, activation='relu'),\n",
        "    Dense(10, activation='softmax')\n",
        "])"
      ]
    },
    {
      "cell_type": "markdown",
      "id": "79ca17b7",
      "metadata": {
        "id": "79ca17b7"
      },
      "source": [
        "It is often helpful to see the tensor shapes and number of parameters per layer. We can get this information by using the `.summary()` method."
      ]
    },
    {
      "cell_type": "code",
      "execution_count": 22,
      "id": "cfd3649d",
      "metadata": {
        "id": "cfd3649d",
        "colab": {
          "base_uri": "https://localhost:8080/"
        },
        "outputId": "8c4a3896-f62e-40ba-fbe3-b917d9a3777f"
      },
      "outputs": [
        {
          "output_type": "stream",
          "name": "stdout",
          "text": [
            "Model: \"sequential\"\n",
            "_________________________________________________________________\n",
            " Layer (type)                Output Shape              Param #   \n",
            "=================================================================\n",
            " conv2d_6 (Conv2D)           (None, 28, 28, 32)        320       \n",
            "                                                                 \n",
            " conv2d_7 (Conv2D)           (None, 13, 13, 32)        9248      \n",
            "                                                                 \n",
            " conv2d_8 (Conv2D)           (None, 13, 13, 64)        18496     \n",
            "                                                                 \n",
            " conv2d_9 (Conv2D)           (None, 11, 11, 64)        36928     \n",
            "                                                                 \n",
            " flatten (Flatten)           (None, 7744)              0         \n",
            "                                                                 \n",
            " dense (Dense)               (None, 128)               991360    \n",
            "                                                                 \n",
            " dense_1 (Dense)             (None, 10)                1290      \n",
            "                                                                 \n",
            "=================================================================\n",
            "Total params: 1057642 (4.03 MB)\n",
            "Trainable params: 1057642 (4.03 MB)\n",
            "Non-trainable params: 0 (0.00 Byte)\n",
            "_________________________________________________________________\n"
          ]
        }
      ],
      "source": [
        "model.summary()"
      ]
    },
    {
      "cell_type": "markdown",
      "id": "a59f6c82",
      "metadata": {
        "id": "a59f6c82"
      },
      "source": [
        "We are still tackling the same type of problem (multi-class classification) so the same loss and metrics will work for us here. The optimizer `rmsprop` is the same as we used before and can be taken as the default method (or recipe) to try out for updating the model parameters."
      ]
    },
    {
      "cell_type": "code",
      "execution_count": 23,
      "id": "192f7772",
      "metadata": {
        "id": "192f7772"
      },
      "outputs": [],
      "source": [
        "model.compile(optimizer='rmsprop',\n",
        "              loss='categorical_crossentropy',\n",
        "              metrics=['accuracy'])"
      ]
    },
    {
      "cell_type": "markdown",
      "id": "3bce024b",
      "metadata": {
        "id": "3bce024b"
      },
      "source": [
        "We now fit our model to the remaining training data (the original training data minus the validation data). You will now see that *loss* and *accuracy* get updated for each batch of images (here set to 256) but the *validation loss* and *validation accuracy* get updated after each *epoch*. Note that the *validation data* is not being used to train the model. Each batch of the training data is used to update the parameters and then, once we have gone through all of the samples in our training data (that is, all the samples in `partial_train_data`) the model is used to make predictions for the validation set. From those predictions the validation loss and accuracy are calculated.\n",
        "\n",
        "Each epoch of training should take 30-50s to complete."
      ]
    },
    {
      "cell_type": "code",
      "execution_count": 24,
      "id": "8f314531",
      "metadata": {
        "id": "8f314531",
        "colab": {
          "base_uri": "https://localhost:8080/"
        },
        "outputId": "f2b37229-4fb8-45be-a65b-6465c321229f"
      },
      "outputs": [
        {
          "output_type": "stream",
          "name": "stdout",
          "text": [
            "Epoch 1/10\n",
            "196/196 [==============================] - 97s 487ms/step - loss: 0.2930 - accuracy: 0.9094 - val_loss: 0.1231 - val_accuracy: 0.9620\n",
            "Epoch 2/10\n",
            "196/196 [==============================] - 95s 485ms/step - loss: 0.0545 - accuracy: 0.9831 - val_loss: 0.0600 - val_accuracy: 0.9832\n",
            "Epoch 3/10\n",
            "196/196 [==============================] - 93s 473ms/step - loss: 0.0322 - accuracy: 0.9902 - val_loss: 0.0591 - val_accuracy: 0.9836\n",
            "Epoch 4/10\n",
            "196/196 [==============================] - 92s 471ms/step - loss: 0.0209 - accuracy: 0.9937 - val_loss: 0.0552 - val_accuracy: 0.9853\n",
            "Epoch 5/10\n",
            "196/196 [==============================] - 93s 473ms/step - loss: 0.0143 - accuracy: 0.9955 - val_loss: 0.0414 - val_accuracy: 0.9892\n",
            "Epoch 6/10\n",
            "196/196 [==============================] - 101s 518ms/step - loss: 0.0111 - accuracy: 0.9966 - val_loss: 0.0513 - val_accuracy: 0.9889\n",
            "Epoch 7/10\n",
            "196/196 [==============================] - 93s 476ms/step - loss: 0.0074 - accuracy: 0.9978 - val_loss: 0.0607 - val_accuracy: 0.9875\n",
            "Epoch 8/10\n",
            "196/196 [==============================] - 98s 501ms/step - loss: 0.0057 - accuracy: 0.9979 - val_loss: 0.0573 - val_accuracy: 0.9887\n",
            "Epoch 9/10\n",
            "196/196 [==============================] - 93s 475ms/step - loss: 0.0050 - accuracy: 0.9984 - val_loss: 0.0601 - val_accuracy: 0.9883\n",
            "Epoch 10/10\n",
            "196/196 [==============================] - 94s 477ms/step - loss: 0.0027 - accuracy: 0.9992 - val_loss: 0.0766 - val_accuracy: 0.9880\n"
          ]
        }
      ],
      "source": [
        "history = model.fit(partial_train_data,\n",
        "                    partial_train_labels,\n",
        "                    epochs=10,\n",
        "                    batch_size=256,\n",
        "                    validation_data=(val_data, val_labels),\n",
        "                    verbose=1)"
      ]
    },
    {
      "cell_type": "markdown",
      "id": "37a38a57",
      "metadata": {
        "id": "37a38a57"
      },
      "source": [
        "The values for the training loss and accuracy, as well as the validation loss and accuracy, are stored in the `history` variable. You can see the structure of the dictionary that stores this information as follows:"
      ]
    },
    {
      "cell_type": "code",
      "execution_count": 25,
      "id": "50091fd0",
      "metadata": {
        "id": "50091fd0",
        "colab": {
          "base_uri": "https://localhost:8080/"
        },
        "outputId": "43797692-3c00-411a-cb15-02a22f4112f8"
      },
      "outputs": [
        {
          "output_type": "execute_result",
          "data": {
            "text/plain": [
              "[0.29298728704452515,\n",
              " 0.05446449667215347,\n",
              " 0.03215521574020386,\n",
              " 0.020941007882356644,\n",
              " 0.014338475652039051,\n",
              " 0.011105840094387531,\n",
              " 0.007385065779089928,\n",
              " 0.005748092662543058,\n",
              " 0.004963728599250317,\n",
              " 0.0026979909744113684]"
            ]
          },
          "metadata": {},
          "execution_count": 25
        }
      ],
      "source": [
        "history.history['loss']"
      ]
    },
    {
      "cell_type": "markdown",
      "id": "5d77157e",
      "metadata": {
        "id": "5d77157e"
      },
      "source": [
        "We will now use this information to visualize the progress our network makes on the loss and accuracy as the number of epochs increases."
      ]
    },
    {
      "cell_type": "code",
      "execution_count": 26,
      "id": "4997ef2b",
      "metadata": {
        "id": "4997ef2b",
        "colab": {
          "base_uri": "https://localhost:8080/",
          "height": 472
        },
        "outputId": "40f5485d-b1fe-4546-d10d-2142c3d7b230"
      },
      "outputs": [
        {
          "output_type": "display_data",
          "data": {
            "text/plain": [
              "<Figure size 640x480 with 1 Axes>"
            ],
            "image/png": "[encoded data removed]"
          },
          "metadata": {}
        }
      ],
      "source": [
        "import matplotlib.pyplot as plt  # needed to create our plot\n",
        "\n",
        "history_dict = history.history # the dictionary that has the information on loss and accuracy per epoch\n",
        "\n",
        "loss_values = history_dict['loss']   # training loss\n",
        "val_loss_values = history_dict['val_loss'] # validation loss\n",
        "\n",
        "epochs = range(1, len(loss_values)+1)  #creates list of integers to match the number of epochs of training\n",
        "\n",
        "# code to plot the results\n",
        "plt.plot(epochs, loss_values, 'b', label=\"Training Loss\")\n",
        "plt.plot(epochs, val_loss_values, 'r', label=\"Validation Loss\")\n",
        "plt.title(\"Training and Validation Loss\")\n",
        "plt.xlabel(\"Epochs\")\n",
        "plt.xticks(epochs)\n",
        "plt.ylabel(\"Loss\")\n",
        "plt.legend()\n",
        "plt.show()"
      ]
    },
    {
      "cell_type": "code",
      "execution_count": 27,
      "id": "f5b78182",
      "metadata": {
        "id": "f5b78182",
        "colab": {
          "base_uri": "https://localhost:8080/",
          "height": 472
        },
        "outputId": "e515b45a-19e7-4922-e739-0744c96861b6"
      },
      "outputs": [
        {
          "output_type": "display_data",
          "data": {
            "text/plain": [
              "<Figure size 640x480 with 1 Axes>"
            ],
            "image/png": "[encoded data removed]"
          },
          "metadata": {}
        }
      ],
      "source": [
        "# As above, but this time we want to visualize the training and validation accuracy\n",
        "acc_values = history_dict['accuracy']\n",
        "val_acc_values = history_dict['val_accuracy']\n",
        "\n",
        "plt.plot(epochs, acc_values, 'b', label=\"Training Accuracy\")\n",
        "plt.plot(epochs, val_acc_values, 'r', label=\"Validation Accuracy\")\n",
        "plt.title(\"Training and Validation Accuracy\")\n",
        "plt.xlabel(\"Epochs\")\n",
        "plt.xticks(epochs)\n",
        "plt.ylabel(\"Accuracy\")\n",
        "plt.legend()\n",
        "plt.show()"
      ]
    },
    {
      "cell_type": "markdown",
      "id": "16f89c1b-c3e4-47cc-b083-3dbe056c4926",
      "metadata": {
        "id": "16f89c1b-c3e4-47cc-b083-3dbe056c4926"
      },
      "source": [
        "## Exercise: Change the layers\n",
        "\n",
        "Play around with the **number of filters** and the **filter size** in our model. Note the change in:\n",
        "- number of parameters in the model\n",
        "- training and validation losses and accuracies"
      ]
    },
    {
      "cell_type": "code",
      "source": [
        "from tensorflow.keras.models import Sequential\n",
        "from tensorflow.keras.layers import Conv2D, Flatten, Dense\n",
        "\n",
        "model1 = Sequential([\n",
        "    Conv2D(filters=4,  # Changing the number of filters\n",
        "           kernel_size=(4, 4),  # Changing kernel_size to 4 x 4\n",
        "           strides=1,\n",
        "           padding='same',\n",
        "           activation='relu',\n",
        "           input_shape=(28, 28, 1)),\n",
        "    Conv2D(filters=78,  # Changing the number of filters\n",
        "           kernel_size=(3, 3),\n",
        "           strides=2, # Keeping strides as 2\n",
        "           padding='valid',\n",
        "           activation='relu'),\n",
        "    Conv2D(filters=64,  # Keeping the same number of filters\n",
        "           kernel_size=(3, 3),\n",
        "           strides=1,\n",
        "           padding='same',\n",
        "           activation='relu'),\n",
        "    Conv2D(filters=128,  # Changing the number of filters\n",
        "           kernel_size=(3, 3),\n",
        "           strides=1,\n",
        "           padding='valid',\n",
        "           activation='relu'),\n",
        "    Flatten(),\n",
        "    Dense(128, activation='relu'),\n",
        "    Dense(10, activation='softmax')\n",
        "])\n",
        "\n",
        "model.summary()"
      ],
      "metadata": {
        "id": "SyejL1KcgDxd",
        "colab": {
          "base_uri": "https://localhost:8080/"
        },
        "outputId": "4069aa38-e17b-4240-bc1f-38dfe55d96d2"
      },
      "id": "SyejL1KcgDxd",
      "execution_count": 28,
      "outputs": [
        {
          "output_type": "stream",
          "name": "stdout",
          "text": [
            "Model: \"sequential\"\n",
            "_________________________________________________________________\n",
            " Layer (type)                Output Shape              Param #   \n",
            "=================================================================\n",
            " conv2d_6 (Conv2D)           (None, 28, 28, 32)        320       \n",
            "                                                                 \n",
            " conv2d_7 (Conv2D)           (None, 13, 13, 32)        9248      \n",
            "                                                                 \n",
            " conv2d_8 (Conv2D)           (None, 13, 13, 64)        18496     \n",
            "                                                                 \n",
            " conv2d_9 (Conv2D)           (None, 11, 11, 64)        36928     \n",
            "                                                                 \n",
            " flatten (Flatten)           (None, 7744)              0         \n",
            "                                                                 \n",
            " dense (Dense)               (None, 128)               991360    \n",
            "                                                                 \n",
            " dense_1 (Dense)             (None, 10)                1290      \n",
            "                                                                 \n",
            "=================================================================\n",
            "Total params: 1057642 (4.03 MB)\n",
            "Trainable params: 1057642 (4.03 MB)\n",
            "Non-trainable params: 0 (0.00 Byte)\n",
            "_________________________________________________________________\n"
          ]
        }
      ]
    },
    {
      "cell_type": "code",
      "source": [
        "model1.compile(optimizer='rmsprop',\n",
        "              loss='categorical_crossentropy',\n",
        "              metrics=['accuracy'])"
      ],
      "metadata": {
        "id": "duOyt_uigD34"
      },
      "id": "duOyt_uigD34",
      "execution_count": 29,
      "outputs": []
    },
    {
      "cell_type": "code",
      "source": [
        "history1 = model1.fit(partial_train_data,\n",
        "                    partial_train_labels,\n",
        "                    epochs=5,\n",
        "                    batch_size=120,\n",
        "                    validation_data=(val_data, val_labels),\n",
        "                    verbose=1)"
      ],
      "metadata": {
        "id": "Toylx6vVgD9_",
        "colab": {
          "base_uri": "https://localhost:8080/"
        },
        "outputId": "0f869b1e-c58e-44f5-84e3-79c5a20be658"
      },
      "id": "Toylx6vVgD9_",
      "execution_count": 30,
      "outputs": [
        {
          "output_type": "stream",
          "name": "stdout",
          "text": [
            "Epoch 1/5\n",
            "417/417 [==============================] - 171s 408ms/step - loss: 0.1742 - accuracy: 0.9446 - val_loss: 0.0811 - val_accuracy: 0.9773\n",
            "Epoch 2/5\n",
            "417/417 [==============================] - 205s 492ms/step - loss: 0.0437 - accuracy: 0.9861 - val_loss: 0.0439 - val_accuracy: 0.9869\n",
            "Epoch 3/5\n",
            "417/417 [==============================] - 190s 456ms/step - loss: 0.0253 - accuracy: 0.9916 - val_loss: 0.0422 - val_accuracy: 0.9883\n",
            "Epoch 4/5\n",
            "417/417 [==============================] - 167s 401ms/step - loss: 0.0180 - accuracy: 0.9941 - val_loss: 0.0572 - val_accuracy: 0.9850\n",
            "Epoch 5/5\n",
            "417/417 [==============================] - 191s 458ms/step - loss: 0.0117 - accuracy: 0.9962 - val_loss: 0.0478 - val_accuracy: 0.9896\n"
          ]
        }
      ]
    },
    {
      "cell_type": "code",
      "source": [
        "history1.history['loss']"
      ],
      "metadata": {
        "colab": {
          "base_uri": "https://localhost:8080/"
        },
        "id": "IktOslqxIXrG",
        "outputId": "526d60fc-c807-42d0-f4ab-7fbbbb06e7d1"
      },
      "id": "IktOslqxIXrG",
      "execution_count": 31,
      "outputs": [
        {
          "output_type": "execute_result",
          "data": {
            "text/plain": [
              "[0.17417006194591522,\n",
              " 0.04366440325975418,\n",
              " 0.025348415598273277,\n",
              " 0.01797000877559185,\n",
              " 0.011704564094543457]"
            ]
          },
          "metadata": {},
          "execution_count": 31
        }
      ]
    },
    {
      "cell_type": "code",
      "source": [],
      "metadata": {
        "id": "3HSXSG0nMXKO"
      },
      "id": "3HSXSG0nMXKO",
      "execution_count": null,
      "outputs": []
    },
    {
      "cell_type": "markdown",
      "id": "9b79813e-127a-48fc-aa92-c4b4453a6da4",
      "metadata": {
        "tags": [],
        "id": "9b79813e-127a-48fc-aa92-c4b4453a6da4"
      },
      "source": [
        "### Exercise: Early Stopping\n",
        "\n",
        "When you have a final model, train it until the validation loss stops decreasing. At this point, the model will have stopped learning and will start to memorize the training data. The model may be starting to overfit. Note the number of epochs at which this happens.  One way to avoid this overfitting is called *early stopping*.  \n",
        "\n",
        "Try implementing early stopping for our model:\n",
        "- use the validation loss plot to determine which epoch corresponds to when the model stops learning\n",
        "    - if it so happens that the validation loss continues going down for all 10 epochs, then increase the number of epochs in the original code to 20\n",
        "- use the complete training set (no validation set)\n",
        "- scale this training set\n",
        "- expand its dimensions to 4\n",
        "- use the same model, and same optimizer, loss and metrics\n",
        "- fit the model to the complete training set (no validation set)\n",
        "- evaluate the trained model on the test data\n"
      ]
    },
    {
      "cell_type": "code",
      "execution_count": 32,
      "id": "c9226968",
      "metadata": {
        "id": "c9226968",
        "colab": {
          "base_uri": "https://localhost:8080/"
        },
        "outputId": "d4a1aad1-1002-44d1-ef20-e8653412ec54"
      },
      "outputs": [
        {
          "output_type": "stream",
          "name": "stdout",
          "text": [
            "Epoch 1/20\n",
            "196/196 [==============================] - 125s 633ms/step - loss: 0.2936 - accuracy: 0.9079\n",
            "Epoch 2/20\n",
            "196/196 [==============================] - 117s 596ms/step - loss: 0.0548 - accuracy: 0.9833\n",
            "Epoch 3/20\n",
            "196/196 [==============================] - 116s 592ms/step - loss: 0.0321 - accuracy: 0.9900\n",
            "Epoch 4/20\n",
            "196/196 [==============================] - 134s 686ms/step - loss: 0.0215 - accuracy: 0.9935\n",
            "Epoch 5/20\n",
            "196/196 [==============================] - 116s 593ms/step - loss: 0.0153 - accuracy: 0.9954\n",
            "Epoch 6/20\n",
            "196/196 [==============================] - 117s 596ms/step - loss: 0.0110 - accuracy: 0.9965\n",
            "Epoch 7/20\n",
            "196/196 [==============================] - 115s 589ms/step - loss: 0.0071 - accuracy: 0.9978\n",
            "Epoch 8/20\n",
            "196/196 [==============================] - 115s 589ms/step - loss: 0.0070 - accuracy: 0.9979\n",
            "Epoch 9/20\n",
            "196/196 [==============================] - 113s 578ms/step - loss: 0.0050 - accuracy: 0.9986\n",
            "Epoch 10/20\n",
            "196/196 [==============================] - 115s 585ms/step - loss: 0.0033 - accuracy: 0.9988\n",
            "Epoch 11/20\n",
            "196/196 [==============================] - 115s 587ms/step - loss: 0.0035 - accuracy: 0.9987\n",
            "Epoch 12/20\n",
            "196/196 [==============================] - 115s 585ms/step - loss: 0.0023 - accuracy: 0.9993\n",
            "Epoch 13/20\n",
            "196/196 [==============================] - 116s 593ms/step - loss: 0.0024 - accuracy: 0.9994\n",
            "Epoch 14/20\n",
            "196/196 [==============================] - 116s 591ms/step - loss: 0.0019 - accuracy: 0.9994\n",
            "Epoch 15/20\n",
            "196/196 [==============================] - 116s 591ms/step - loss: 0.0017 - accuracy: 0.9995\n",
            "Epoch 16/20\n",
            "196/196 [==============================] - 116s 591ms/step - loss: 0.0011 - accuracy: 0.9996\n",
            "Epoch 17/20\n",
            "196/196 [==============================] - 116s 591ms/step - loss: 0.0025 - accuracy: 0.9993\n",
            "Epoch 18/20\n",
            "196/196 [==============================] - 116s 591ms/step - loss: 0.0022 - accuracy: 0.9992\n",
            "Epoch 19/20\n",
            "196/196 [==============================] - 116s 594ms/step - loss: 0.0018 - accuracy: 0.9995\n",
            "Epoch 20/20\n",
            "196/196 [==============================] - 116s 591ms/step - loss: 2.8864e-04 - accuracy: 0.9999\n",
            "313/313 [==============================] - 8s 26ms/step - loss: 0.0553 - accuracy: 0.9913\n",
            "Test Loss: 0.05533505231142044\n",
            "Test Accuracy: 0.9912999868392944\n"
          ]
        }
      ],
      "source": [
        "# --- Creating the model: ---\n",
        "model2 = Sequential([\n",
        "    Conv2D(filters=16,\n",
        "           kernel_size=(3, 3),\n",
        "           strides=1,\n",
        "           padding='same',\n",
        "           activation='relu',\n",
        "           input_shape=(28, 28, 1)),\n",
        "    Conv2D(filters=32,\n",
        "           kernel_size=(3, 3),\n",
        "           strides=2,\n",
        "           padding='valid',\n",
        "           activation='relu'),\n",
        "    Conv2D(filters=64,\n",
        "           kernel_size=(3, 3),\n",
        "           strides=1,\n",
        "           padding='same',\n",
        "           activation='relu'),\n",
        "    Conv2D(filters=128,\n",
        "           kernel_size=(3, 3),\n",
        "           strides=1,\n",
        "           padding='valid',\n",
        "           activation='relu'),\n",
        "    Flatten(),\n",
        "    Dense(128, activation='relu'),\n",
        "    Dense(10, activation='softmax')\n",
        "])\n",
        "\n",
        "# --- Compiling the model: ---\n",
        "model2.compile(optimizer='rmsprop',\n",
        "              loss='categorical_crossentropy',\n",
        "              metrics=['accuracy'])\n",
        "\n",
        "# --- Fitting the model with 20 epochs: ---\n",
        "history2 = model2.fit(\n",
        "    partial_train_data,\n",
        "    partial_train_labels,\n",
        "    epochs=20,\n",
        "    batch_size=256,\n",
        "    verbose=1\n",
        ")\n",
        "\n",
        "# --- Evaluate the model: ---\n",
        "test_loss, test_accuracy = model2.evaluate(test_data, test_labels)\n",
        "\n",
        "print(f'Test Loss: {test_loss}')\n",
        "print(f'Test Accuracy: {test_accuracy}')"
      ]
    },
    {
      "cell_type": "code",
      "source": [
        "history2.history['loss']"
      ],
      "metadata": {
        "id": "QnP6llR3gFBi",
        "colab": {
          "base_uri": "https://localhost:8080/"
        },
        "outputId": "6265de7b-b037-422f-eb28-8f399f12e5e0"
      },
      "id": "QnP6llR3gFBi",
      "execution_count": 33,
      "outputs": [
        {
          "output_type": "execute_result",
          "data": {
            "text/plain": [
              "[0.2935699224472046,\n",
              " 0.054826270788908005,\n",
              " 0.03209441900253296,\n",
              " 0.02152755856513977,\n",
              " 0.015311558730900288,\n",
              " 0.010988724417984486,\n",
              " 0.007090565282851458,\n",
              " 0.00699304323643446,\n",
              " 0.004968180321156979,\n",
              " 0.0032719075679779053,\n",
              " 0.0034699649550020695,\n",
              " 0.002317355712875724,\n",
              " 0.0024174810387194157,\n",
              " 0.0019086982356384397,\n",
              " 0.0016898427857086062,\n",
              " 0.0010856835870072246,\n",
              " 0.0025048484094440937,\n",
              " 0.0021873917430639267,\n",
              " 0.0017901865066960454,\n",
              " 0.00028863715124316514]"
            ]
          },
          "metadata": {},
          "execution_count": 33
        }
      ]
    },
    {
      "cell_type": "code",
      "source": [],
      "metadata": {
        "id": "uwmVS7CJgFIn"
      },
      "id": "uwmVS7CJgFIn",
      "execution_count": 27,
      "outputs": []
    },
    {
      "cell_type": "markdown",
      "id": "191cecc7-466c-4fee-80f5-31c8f80c9f72",
      "metadata": {
        "id": "191cecc7-466c-4fee-80f5-31c8f80c9f72"
      },
      "source": [
        "### Exercise: Early Stopping with Callbacks\n",
        "\n",
        "Now try to implement early stopping using the Keras [callback](https://keras.io/api/callbacks/early_stopping/) functionality. In this case, you will need to use the validation data, because you want the early stopping to occur as a result of Keras monitoring the validation loss."
      ]
    },
    {
      "cell_type": "code",
      "execution_count": 40,
      "id": "b7ae1ec6-d28f-434f-a503-04d4d18bd892",
      "metadata": {
        "id": "b7ae1ec6-d28f-434f-a503-04d4d18bd892",
        "colab": {
          "base_uri": "https://localhost:8080/"
        },
        "outputId": "f71635a5-9ef5-4d8d-d11e-f737761dd3b3"
      },
      "outputs": [
        {
          "output_type": "stream",
          "name": "stdout",
          "text": [
            "Epoch 1/20\n",
            "196/196 [==============================] - 125s 634ms/step - loss: 0.2912 - accuracy: 0.9112 - val_loss: 0.1767 - val_accuracy: 0.9502\n",
            "Epoch 2/20\n",
            "196/196 [==============================] - 127s 647ms/step - loss: 0.0537 - accuracy: 0.9835 - val_loss: 0.0602 - val_accuracy: 0.9808\n",
            "Epoch 3/20\n",
            "196/196 [==============================] - 130s 664ms/step - loss: 0.0327 - accuracy: 0.9894 - val_loss: 0.0525 - val_accuracy: 0.9846\n",
            "Epoch 4/20\n",
            "196/196 [==============================] - 126s 644ms/step - loss: 0.0206 - accuracy: 0.9933 - val_loss: 0.0471 - val_accuracy: 0.9871\n",
            "Epoch 5/20\n",
            "196/196 [==============================] - 125s 637ms/step - loss: 0.0145 - accuracy: 0.9952 - val_loss: 0.0506 - val_accuracy: 0.9870\n",
            "Epoch 6/20\n",
            "196/196 [==============================] - 125s 639ms/step - loss: 0.0099 - accuracy: 0.9968 - val_loss: 0.0511 - val_accuracy: 0.9884\n",
            "Epoch 7/20\n",
            "196/196 [==============================] - 126s 642ms/step - loss: 0.0080 - accuracy: 0.9975 - val_loss: 0.0450 - val_accuracy: 0.9892\n",
            "Epoch 8/20\n",
            "196/196 [==============================] - 124s 635ms/step - loss: 0.0046 - accuracy: 0.9987 - val_loss: 0.0659 - val_accuracy: 0.9891\n",
            "Epoch 9/20\n",
            "196/196 [==============================] - 122s 621ms/step - loss: 0.0052 - accuracy: 0.9986 - val_loss: 0.0614 - val_accuracy: 0.9893\n",
            "Epoch 10/20\n",
            "196/196 [==============================] - 124s 632ms/step - loss: 0.0035 - accuracy: 0.9989 - val_loss: 0.0606 - val_accuracy: 0.9893\n",
            "Epoch 11/20\n",
            "196/196 [==============================] - 125s 639ms/step - loss: 0.0030 - accuracy: 0.9991 - val_loss: 0.0698 - val_accuracy: 0.9889\n",
            "Epoch 12/20\n",
            "196/196 [==============================] - 120s 614ms/step - loss: 0.0015 - accuracy: 0.9996 - val_loss: 0.0951 - val_accuracy: 0.9878\n",
            "313/313 [==============================] - 9s 28ms/step - loss: 0.0655 - accuracy: 0.9897\n",
            "Test Loss: 0.0654863491654396\n",
            "Test Accuracy: 0.9897000193595886\n"
          ]
        }
      ],
      "source": [
        "import tensorflow as tf\n",
        "from tensorflow.keras.models import Sequential\n",
        "from tensorflow.keras.layers import Conv2D, Flatten, Dense\n",
        "\n",
        "# --- Create the early stopping callback ---\n",
        "# This helps stop training if validation loss doesn't improve for 5 consecutive epochs\n",
        "callback = tf.keras.callbacks.EarlyStopping(monitor='val_loss', patience=5)\n",
        "\n",
        "# --- Create the neural network model ---\n",
        "model3 = tf.keras.models.Sequential()\n",
        "model3.add(tf.keras.layers.Conv2D(filters=16,\n",
        "                                  kernel_size=(3, 3),\n",
        "                                  strides=1, padding='same',\n",
        "                                  activation='relu',\n",
        "                                  input_shape=(28, 28, 1)))\n",
        "model3.add(tf.keras.layers.Conv2D(filters=32,\n",
        "                                  kernel_size=(3, 3),\n",
        "                                  strides=2,\n",
        "                                  padding='valid',\n",
        "                                  activation='relu'))\n",
        "model3.add(tf.keras.layers.Conv2D(filters=64,\n",
        "                                  kernel_size=(3, 3),\n",
        "                                  strides=1,\n",
        "                                  padding='same',\n",
        "                                  activation='relu'))\n",
        "model3.add(tf.keras.layers.Conv2D(filters=128,\n",
        "                                  kernel_size=(3, 3),\n",
        "                                  strides=1,\n",
        "                                  padding='valid',\n",
        "                                  activation='relu'))\n",
        "model3.add(tf.keras.layers.Flatten())\n",
        "model3.add(tf.keras.layers.Dense(128, activation='relu'))\n",
        "model3.add(tf.keras.layers.Dense(10, activation='softmax'))\n",
        "\n",
        "\n",
        "# --- Compile the model ---\n",
        "model3.compile(optimizer='rmsprop',\n",
        "              loss='categorical_crossentropy',\n",
        "              metrics=['accuracy'])\n",
        "\n",
        "# --- Fit the model ---\n",
        "history3 = model3.fit(\n",
        "    partial_train_data,\n",
        "    partial_train_labels,\n",
        "    epochs=20,\n",
        "    batch_size=256,\n",
        "    validation_data=(val_data, val_labels),\n",
        "    callbacks=[callback],\n",
        "    verbose=1\n",
        ")\n",
        "\n",
        "# --- Evaluate the model ---\n",
        "test_loss, test_accuracy = model3.evaluate(test_data, test_labels)\n",
        "\n",
        "# Print test loss and accuracy\n",
        "print(f'Test Loss: {test_loss}')\n",
        "print(f'Test Accuracy: {test_accuracy}')"
      ]
    },
    {
      "cell_type": "code",
      "source": [
        "history3.history['loss']"
      ],
      "metadata": {
        "id": "b2l9VpL8gGqd",
        "colab": {
          "base_uri": "https://localhost:8080/"
        },
        "outputId": "fb827a93-a90e-42d7-c175-a542c7476d84"
      },
      "id": "b2l9VpL8gGqd",
      "execution_count": 41,
      "outputs": [
        {
          "output_type": "execute_result",
          "data": {
            "text/plain": [
              "[0.2911742925643921,\n",
              " 0.05367900803685188,\n",
              " 0.032745614647865295,\n",
              " 0.02057040110230446,\n",
              " 0.014520402997732162,\n",
              " 0.009916923008859158,\n",
              " 0.007979131303727627,\n",
              " 0.004589745309203863,\n",
              " 0.005153364967554808,\n",
              " 0.0034938480239361525,\n",
              " 0.0029549396131187677,\n",
              " 0.0015183176146820188]"
            ]
          },
          "metadata": {},
          "execution_count": 41
        }
      ]
    },
    {
      "cell_type": "code",
      "source": [
        "%%shell\n",
        "jupyter nbconvert --to html /PATH/TO/YOUR/NOTEBOOKFILE.ipynb"
      ],
      "metadata": {
        "id": "93nWI5YhgGvv"
      },
      "id": "93nWI5YhgGvv",
      "execution_count": 27,
      "outputs": []
    }
  ],
  "metadata": {
    "kernelspec": {
      "display_name": "Python 3 (ipykernel)",
      "language": "python",
      "name": "python3"
    },
    "language_info": {
      "codemirror_mode": {
        "name": "ipython",
        "version": 3
      },
      "file_extension": ".py",
      "mimetype": "text/x-python",
      "name": "python",
      "nbconvert_exporter": "python",
      "pygments_lexer": "ipython3",
      "version": "3.7.13"
    },
    "colab": {
      "provenance": [],
      "include_colab_link": true
    }
  },
  "nbformat": 4,
  "nbformat_minor": 5
}